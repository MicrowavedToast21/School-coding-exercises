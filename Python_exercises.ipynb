{
 "cells": [
  {
   "cell_type": "code",
   "execution_count": 1,
   "id": "86465d18",
   "metadata": {},
   "outputs": [
    {
     "name": "stdout",
     "output_type": "stream",
     "text": [
      "Enter a number: 4532\n",
      "The 10s digit of the number is:  3.0\n"
     ]
    }
   ],
   "source": [
    "number = float(input(\"Enter a number: \"))\n",
    "print(\"The 10s digit of the number is: \", float(number // 10) % 10)"
   ]
  },
  {
   "cell_type": "code",
   "execution_count": null,
   "id": "344e9b12",
   "metadata": {},
   "outputs": [],
   "source": [
    "base = float(input(\"Enter the base of the triangle: \"))\n",
    "height = float(input(\"Enter the height of the triangle: \"))\n",
    "print(\"The area of the triangle is: \", base * height // 2, \"m2\")"
   ]
  },
  {
   "cell_type": "code",
   "execution_count": null,
   "id": "10a60948",
   "metadata": {},
   "outputs": [],
   "source": [
    "number = int(input(\"Enter a two digit number: \"))\n",
    "\n",
    "if number < 10 or number > 99:\n",
    "    print(\"Please enter a valid two digit number\")\n",
    "else:\n",
    "    digit_1 = number // 10\n",
    "    digit_2 = number % 10\n",
    "    swapped_number = (digit_2 * 10)+ digit_1\n",
    "    print(swapped_number)"
   ]
  },
  {
   "cell_type": "code",
   "execution_count": null,
   "id": "f86141d1",
   "metadata": {},
   "outputs": [],
   "source": [
    "number = float(input(\"Enter a number: \"))\n",
    "a = number // 100\n",
    "b = number // 10 % 10\n",
    "c = number % 10\n",
    "print(a + b +c)"
   ]
  },
  {
   "cell_type": "code",
   "execution_count": null,
   "id": "b220b866",
   "metadata": {},
   "outputs": [],
   "source": [
    "def find_century(year):\n",
    "    if year % 100 == 0:\n",
    "        return year // 100\n",
    "    else:\n",
    "        return year // 100 +1\n",
    "if _name_ == \"_main_\":\n",
    "    year = int(input(\"Enter a year: \"))\n",
    "    century = find_century(year)\n",
    "    print(f\"The century for the year {year} is: {century}\")"
   ]
  },
  {
   "cell_type": "code",
   "execution_count": null,
   "id": "75333268",
   "metadata": {},
   "outputs": [],
   "source": [
    "from datetime import timedelta \n",
    "sec = float(input(\"Enter time in seconds: \"))\n",
    "td = timedelta(seconds=sec)\n",
    "print(\"Time is:\", td)"
   ]
  },
  {
   "cell_type": "code",
   "execution_count": null,
   "id": "6d85206a",
   "metadata": {},
   "outputs": [],
   "source": [
    "import math\n",
    "\n",
    "def calculate_area_degrees(a, b, angle_in_degrees):\n",
    "    angle_in_radians = math.radians(angle_in_degrees)\n",
    "    area = 0.5*a*b*math.sin(angle_in_radians)\n",
    "    \n",
    "    return area\n",
    "a = float(input(\"Enter side a of the triangle: \"))\n",
    "b = float(input(\"Enter side b of the triangle: \"))\n",
    "angle_degrees = float(input(\"Enter angle of the triangle: \"))\n",
    "\n",
    "area = calculate_area_degrees(a, b, angle_degrees)\n",
    "print(\"The area is :\", area, \"m2\")"
   ]
  },
  {
   "cell_type": "code",
   "execution_count": 3,
   "id": "3ba5f20c",
   "metadata": {},
   "outputs": [
    {
     "name": "stdout",
     "output_type": "stream",
     "text": [
      "Enter the a constant of the quadratic equation1\n",
      "Enter the b constant of the quadratic equation1\n",
      "Enter the c constant of the quadratic equation-1\n",
      "The solutions are (-1.618033988749895+0j) and (0.6180339887498949+0j)\n"
     ]
    }
   ],
   "source": [
    "#solves the quadratic equation ax**2 + bx + c = 0\n",
    "\n",
    "import cmath\n",
    "\n",
    "a = float(input(\"Enter the a constant of the quadratic equation\"))\n",
    "b = float(input(\"Enter the b constant of the quadratic equation\"))\n",
    "c = float(input(\"Enter the c constant of the quadratic equation\"))\n",
    "\n",
    "d = (b**2) - (4*a*c)\n",
    "\n",
    "sol1 = (-b-cmath.sqrt(d))/(2*a)\n",
    "sol2 = (-b+cmath.sqrt(d))/(2*a)\n",
    "\n",
    "print(\"The solutions are {0} and {1}\".format(sol1, sol2))"
   ]
  },
  {
   "cell_type": "code",
   "execution_count": null,
   "id": "0b9aa60b",
   "metadata": {},
   "outputs": [],
   "source": []
  }
 ],
 "metadata": {
  "kernelspec": {
   "display_name": "Python 3 (ipykernel)",
   "language": "python",
   "name": "python3"
  },
  "language_info": {
   "codemirror_mode": {
    "name": "ipython",
    "version": 3
   },
   "file_extension": ".py",
   "mimetype": "text/x-python",
   "name": "python",
   "nbconvert_exporter": "python",
   "pygments_lexer": "ipython3",
   "version": "3.11.5"
  }
 },
 "nbformat": 4,
 "nbformat_minor": 5
}
